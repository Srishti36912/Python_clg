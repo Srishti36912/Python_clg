{
 "cells": [
  {
   "cell_type": "code",
   "execution_count": 1,
   "metadata": {},
   "outputs": [
    {
     "name": "stdout",
     "output_type": "stream",
     "text": [
      "Time taken by list: 2.9325852394104004 seconds\n",
      "Time taken by array: 0.12216472625732422 seconds\n"
     ]
    }
   ],
   "source": [
    "import numpy as np\n",
    "import time\n",
    "\n",
    "# creating large list and array\n",
    "size = 100000000\n",
    "list_data = list(range(size))\n",
    "array_data = np.array(range(size))\n",
    "\n",
    "# timing of the list operation\n",
    "start_time = time.time()\n",
    "list_sum = sum(list_data)\n",
    "end_time = time.time()\n",
    "list_time = end_time - start_time\n",
    "print(f\"Time taken by list: {list_time} seconds\")\n",
    "\n",
    "# timing of the array operation\n",
    "start_time = time.time()\n",
    "list_sum = np.sum(array_data)\n",
    "end_time = time.time()\n",
    "array_time = end_time - start_time\n",
    "print(f\"Time taken by array: {array_time} seconds\")\n"
   ]
  },
  {
   "cell_type": "markdown",
   "metadata": {},
   "source": [
    "### In NumPy array, array is homogeneous"
   ]
  },
  {
   "cell_type": "code",
   "execution_count": 2,
   "metadata": {},
   "outputs": [],
   "source": [
    "import numpy as np\n",
    "ar = np.array([3,5,4,5,9.0])"
   ]
  },
  {
   "cell_type": "code",
   "execution_count": 3,
   "metadata": {},
   "outputs": [
    {
     "name": "stdout",
     "output_type": "stream",
     "text": [
      "<class 'numpy.float64'>\n"
     ]
    }
   ],
   "source": [
    "print(type(ar[0]))"
   ]
  },
  {
   "cell_type": "code",
   "execution_count": 4,
   "metadata": {},
   "outputs": [
    {
     "data": {
      "text/plain": [
       "array([3., 5., 4., 5., 9.])"
      ]
     },
     "execution_count": 4,
     "metadata": {},
     "output_type": "execute_result"
    }
   ],
   "source": [
    "ar\n",
    "# numpy gives priority to floats because they can handle both whole numbers and decimal numbers"
   ]
  },
  {
   "cell_type": "code",
   "execution_count": null,
   "metadata": {},
   "outputs": [],
   "source": []
  }
 ],
 "metadata": {
  "kernelspec": {
   "display_name": "base",
   "language": "python",
   "name": "python3"
  },
  "language_info": {
   "codemirror_mode": {
    "name": "ipython",
    "version": 3
   },
   "file_extension": ".py",
   "mimetype": "text/x-python",
   "name": "python",
   "nbconvert_exporter": "python",
   "pygments_lexer": "ipython3",
   "version": "3.12.4"
  }
 },
 "nbformat": 4,
 "nbformat_minor": 2
}
