{
 "cells": [
  {
   "cell_type": "code",
   "execution_count": 3,
   "metadata": {},
   "outputs": [
    {
     "name": "stdout",
     "output_type": "stream",
     "text": [
      "<class 'tuple'>\n"
     ]
    }
   ],
   "source": [
    "a = (3,2,5,6)\n",
    "print(type(a))"
   ]
  },
  {
   "cell_type": "code",
   "execution_count": 4,
   "metadata": {},
   "outputs": [],
   "source": [
    "class mobile:\n",
    "    pass\n",
    "poco = mobile()"
   ]
  },
  {
   "cell_type": "code",
   "execution_count": 6,
   "metadata": {},
   "outputs": [
    {
     "name": "stdout",
     "output_type": "stream",
     "text": [
      "<class '__main__.mobile'>\n"
     ]
    }
   ],
   "source": [
    "print(type(poco))"
   ]
  },
  {
   "cell_type": "code",
   "execution_count": 7,
   "metadata": {},
   "outputs": [],
   "source": [
    "#Create a object of Mobile class and make at least five object\n",
    "class Mobile:\n",
    "    pass\n",
    "oppo = Mobile()\n",
    "vivo = Mobile()\n",
    "poco = Mobile()\n",
    "apple = Mobile()\n",
    "oneplus = Mobile()"
   ]
  },
  {
   "cell_type": "code",
   "execution_count": 8,
   "metadata": {},
   "outputs": [
    {
     "name": "stdout",
     "output_type": "stream",
     "text": [
      "<class '__main__.Mobile'>\n"
     ]
    }
   ],
   "source": [
    "print(type(vivo))"
   ]
  },
  {
   "cell_type": "code",
   "execution_count": 9,
   "metadata": {},
   "outputs": [
    {
     "name": "stdout",
     "output_type": "stream",
     "text": [
      "<class '__main__.Mobile'>\n"
     ]
    }
   ],
   "source": [
    "print(type(apple))"
   ]
  },
  {
   "cell_type": "markdown",
   "metadata": {},
   "source": [
    "### Self keyword"
   ]
  },
  {
   "cell_type": "code",
   "execution_count": 10,
   "metadata": {},
   "outputs": [
    {
     "name": "stdout",
     "output_type": "stream",
     "text": [
      "1987522063872\n"
     ]
    }
   ],
   "source": [
    "a = [3,3]\n",
    "print(id(a))"
   ]
  },
  {
   "cell_type": "code",
   "execution_count": 11,
   "metadata": {},
   "outputs": [
    {
     "name": "stdout",
     "output_type": "stream",
     "text": [
      "1987526408000\n"
     ]
    }
   ],
   "source": [
    "b = [3,4,5]\n",
    "print(id(b))"
   ]
  },
  {
   "cell_type": "code",
   "execution_count": 12,
   "metadata": {},
   "outputs": [
    {
     "name": "stdout",
     "output_type": "stream",
     "text": [
      "execute your laptop ram\n",
      "execute your laptop rom\n",
      "execute your laptop ram\n",
      "execute your laptop rom\n"
     ]
    }
   ],
   "source": [
    "class laptop:\n",
    "    def ram(self):\n",
    "        print(\"execute your laptop ram\")\n",
    "    def rom(self):\n",
    "        print(\"execute your laptop rom\")\n",
    "\n",
    "acer = laptop()\n",
    "hp = laptop()\n",
    "\n",
    "acer.ram()\n",
    "acer.rom()\n",
    "\n",
    "hp.ram()\n",
    "hp.rom()"
   ]
  },
  {
   "cell_type": "code",
   "execution_count": 13,
   "metadata": {},
   "outputs": [
    {
     "name": "stdout",
     "output_type": "stream",
     "text": [
      "1987522575392\n",
      "1987522575392\n",
      "1987522575392\n"
     ]
    }
   ],
   "source": [
    "class laptop:\n",
    "    def ram(self):\n",
    "        print(id(self))\n",
    "    def rom(self):\n",
    "        print(id(self))\n",
    "\n",
    "acer = laptop()\n",
    "hp = laptop()\n",
    "\n",
    "print(id(acer))\n",
    "acer.ram()\n",
    "acer.rom()"
   ]
  },
  {
   "cell_type": "code",
   "execution_count": 14,
   "metadata": {},
   "outputs": [
    {
     "name": "stdout",
     "output_type": "stream",
     "text": [
      "1987522574624\n",
      "1987522574624\n",
      "1987522574624\n"
     ]
    }
   ],
   "source": [
    "print(id(hp))\n",
    "hp.ram()\n",
    "hp.rom()"
   ]
  },
  {
   "cell_type": "code",
   "execution_count": null,
   "metadata": {},
   "outputs": [],
   "source": []
  }
 ],
 "metadata": {
  "kernelspec": {
   "display_name": "base",
   "language": "python",
   "name": "python3"
  },
  "language_info": {
   "codemirror_mode": {
    "name": "ipython",
    "version": 3
   },
   "file_extension": ".py",
   "mimetype": "text/x-python",
   "name": "python",
   "nbconvert_exporter": "python",
   "pygments_lexer": "ipython3",
   "version": "3.12.4"
  }
 },
 "nbformat": 4,
 "nbformat_minor": 2
}
