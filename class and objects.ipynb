{
 "cells": [
  {
   "cell_type": "code",
   "execution_count": 3,
   "metadata": {},
   "outputs": [
    {
     "name": "stdout",
     "output_type": "stream",
     "text": [
      "<class 'tuple'>\n"
     ]
    }
   ],
   "source": [
    "a = (3,2,5,6)\n",
    "print(type(a))"
   ]
  },
  {
   "cell_type": "code",
   "execution_count": 4,
   "metadata": {},
   "outputs": [],
   "source": [
    "class mobile:\n",
    "    pass\n",
    "poco = mobile()"
   ]
  },
  {
   "cell_type": "code",
   "execution_count": 6,
   "metadata": {},
   "outputs": [
    {
     "name": "stdout",
     "output_type": "stream",
     "text": [
      "<class '__main__.mobile'>\n"
     ]
    }
   ],
   "source": [
    "print(type(poco))"
   ]
  },
  {
   "cell_type": "code",
   "execution_count": 7,
   "metadata": {},
   "outputs": [],
   "source": [
    "#Create a object of Mobile class and make at least five object\n",
    "class Mobile:\n",
    "    pass\n",
    "oppo = Mobile()\n",
    "vivo = Mobile()\n",
    "poco = Mobile()\n",
    "apple = Mobile()\n",
    "oneplus = Mobile()"
   ]
  },
  {
   "cell_type": "code",
   "execution_count": 8,
   "metadata": {},
   "outputs": [
    {
     "name": "stdout",
     "output_type": "stream",
     "text": [
      "<class '__main__.Mobile'>\n"
     ]
    }
   ],
   "source": [
    "print(type(vivo))"
   ]
  },
  {
   "cell_type": "code",
   "execution_count": 9,
   "metadata": {},
   "outputs": [
    {
     "name": "stdout",
     "output_type": "stream",
     "text": [
      "<class '__main__.Mobile'>\n"
     ]
    }
   ],
   "source": [
    "print(type(apple))"
   ]
  },
  {
   "cell_type": "markdown",
   "metadata": {},
   "source": [
    "### Self keyword"
   ]
  },
  {
   "cell_type": "code",
   "execution_count": 10,
   "metadata": {},
   "outputs": [
    {
     "name": "stdout",
     "output_type": "stream",
     "text": [
      "1987522063872\n"
     ]
    }
   ],
   "source": [
    "a = [3,3]\n",
    "print(id(a))"
   ]
  },
  {
   "cell_type": "code",
   "execution_count": 11,
   "metadata": {},
   "outputs": [
    {
     "name": "stdout",
     "output_type": "stream",
     "text": [
      "1987526408000\n"
     ]
    }
   ],
   "source": [
    "b = [3,4,5]\n",
    "print(id(b))"
   ]
  },
  {
   "cell_type": "code",
   "execution_count": 12,
   "metadata": {},
   "outputs": [
    {
     "name": "stdout",
     "output_type": "stream",
     "text": [
      "execute your laptop ram\n",
      "execute your laptop rom\n",
      "execute your laptop ram\n",
      "execute your laptop rom\n"
     ]
    }
   ],
   "source": [
    "class laptop:\n",
    "    def ram(self):\n",
    "        print(\"execute your laptop ram\")\n",
    "    def rom(self):\n",
    "        print(\"execute your laptop rom\")\n",
    "\n",
    "acer = laptop()\n",
    "hp = laptop()\n",
    "\n",
    "acer.ram()\n",
    "acer.rom()\n",
    "\n",
    "hp.ram()\n",
    "hp.rom()"
   ]
  },
  {
   "cell_type": "code",
   "execution_count": 13,
   "metadata": {},
   "outputs": [
    {
     "name": "stdout",
     "output_type": "stream",
     "text": [
      "1987522575392\n",
      "1987522575392\n",
      "1987522575392\n"
     ]
    }
   ],
   "source": [
    "class laptop:\n",
    "    def ram(self):\n",
    "        print(id(self))\n",
    "    def rom(self):\n",
    "        print(id(self))\n",
    "\n",
    "acer = laptop()\n",
    "hp = laptop()\n",
    "\n",
    "print(id(acer))\n",
    "acer.ram()\n",
    "acer.rom()"
   ]
  },
  {
   "cell_type": "code",
   "execution_count": 14,
   "metadata": {},
   "outputs": [
    {
     "name": "stdout",
     "output_type": "stream",
     "text": [
      "1987522574624\n",
      "1987522574624\n",
      "1987522574624\n"
     ]
    }
   ],
   "source": [
    "print(id(hp))\n",
    "hp.ram()\n",
    "hp.rom()"
   ]
  },
  {
   "cell_type": "markdown",
   "metadata": {},
   "source": [
    "# Constructors in OOP"
   ]
  },
  {
   "cell_type": "code",
   "execution_count": 1,
   "metadata": {},
   "outputs": [
    {
     "name": "stdout",
     "output_type": "stream",
     "text": [
      "This is a constructor.\n"
     ]
    }
   ],
   "source": [
    "class Company:\n",
    "    # constructor\n",
    "    def __init__(self):\n",
    "        print(\"This is a constructor.\")\n",
    "\n",
    "com = Company()"
   ]
  },
  {
   "cell_type": "code",
   "execution_count": 2,
   "metadata": {},
   "outputs": [
    {
     "name": "stdout",
     "output_type": "stream",
     "text": [
      "Memory address of self is  2344577050448\n"
     ]
    }
   ],
   "source": [
    "class Company:\n",
    "    # constructor\n",
    "    def __init__(self):\n",
    "        print(\"Memory address of self is \",id(self))\n",
    "\n",
    "com = Company()"
   ]
  },
  {
   "cell_type": "code",
   "execution_count": 3,
   "metadata": {},
   "outputs": [
    {
     "name": "stdout",
     "output_type": "stream",
     "text": [
      "2344577050448\n"
     ]
    }
   ],
   "source": [
    "print(id(com))"
   ]
  },
  {
   "cell_type": "markdown",
   "metadata": {},
   "source": [
    "### Non-Parameterized Constructor"
   ]
  },
  {
   "cell_type": "code",
   "execution_count": 5,
   "metadata": {},
   "outputs": [
    {
     "name": "stdout",
     "output_type": "stream",
     "text": [
      "xyz\n",
      "ABC Street\n",
      "Name: xyz Address: ABC Street\n"
     ]
    }
   ],
   "source": [
    "class Company:\n",
    "    def __init__(self):\n",
    "        self.name = \"xyz\"\n",
    "        self.address = \"ABC Street\"\n",
    "\n",
    "    def show(self):\n",
    "        print('Name:', self.name, 'Address:',self.address)\n",
    "\n",
    "cmp = Company()\n",
    "\n",
    "print(cmp.name)\n",
    "print(cmp.address)\n",
    "\n",
    "cmp.show()"
   ]
  },
  {
   "cell_type": "code",
   "execution_count": 6,
   "metadata": {},
   "outputs": [],
   "source": [
    "class Company:\n",
    "    def __init__(self):\n",
    "        self.name = \"xyz\"\n",
    "        self.address = \"ABC Street\"\n",
    "\n",
    "    def show(self):\n",
    "        print('Name:', self.name, 'Address:',self.address)\n"
   ]
  },
  {
   "cell_type": "code",
   "execution_count": 7,
   "metadata": {},
   "outputs": [
    {
     "name": "stdout",
     "output_type": "stream",
     "text": [
      "ABC Street\n",
      "Name: xyz Address: ABC Street\n"
     ]
    }
   ],
   "source": [
    "c1 = Company()\n",
    "print(c1.address)\n",
    "c1.show()"
   ]
  },
  {
   "cell_type": "code",
   "execution_count": null,
   "metadata": {},
   "outputs": [],
   "source": []
  }
 ],
 "metadata": {
  "kernelspec": {
   "display_name": "base",
   "language": "python",
   "name": "python3"
  },
  "language_info": {
   "codemirror_mode": {
    "name": "ipython",
    "version": 3
   },
   "file_extension": ".py",
   "mimetype": "text/x-python",
   "name": "python",
   "nbconvert_exporter": "python",
   "pygments_lexer": "ipython3",
   "version": "3.12.4"
  }
 },
 "nbformat": 4,
 "nbformat_minor": 2
}
