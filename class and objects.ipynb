{
 "cells": [
  {
   "cell_type": "code",
   "execution_count": 3,
   "metadata": {},
   "outputs": [
    {
     "name": "stdout",
     "output_type": "stream",
     "text": [
      "<class 'tuple'>\n"
     ]
    }
   ],
   "source": [
    "a = (3,2,5,6)\n",
    "print(type(a))"
   ]
  },
  {
   "cell_type": "code",
   "execution_count": 4,
   "metadata": {},
   "outputs": [],
   "source": [
    "class mobile:\n",
    "    pass\n",
    "poco = mobile()"
   ]
  },
  {
   "cell_type": "code",
   "execution_count": 6,
   "metadata": {},
   "outputs": [
    {
     "name": "stdout",
     "output_type": "stream",
     "text": [
      "<class '__main__.mobile'>\n"
     ]
    }
   ],
   "source": [
    "print(type(poco))"
   ]
  },
  {
   "cell_type": "code",
   "execution_count": 7,
   "metadata": {},
   "outputs": [],
   "source": [
    "#Create a object of Mobile class and make at least five object\n",
    "class Mobile:\n",
    "    pass\n",
    "oppo = Mobile()\n",
    "vivo = Mobile()\n",
    "poco = Mobile()\n",
    "apple = Mobile()\n",
    "oneplus = Mobile()"
   ]
  },
  {
   "cell_type": "code",
   "execution_count": 8,
   "metadata": {},
   "outputs": [
    {
     "name": "stdout",
     "output_type": "stream",
     "text": [
      "<class '__main__.Mobile'>\n"
     ]
    }
   ],
   "source": [
    "print(type(vivo))"
   ]
  },
  {
   "cell_type": "code",
   "execution_count": 9,
   "metadata": {},
   "outputs": [
    {
     "name": "stdout",
     "output_type": "stream",
     "text": [
      "<class '__main__.Mobile'>\n"
     ]
    }
   ],
   "source": [
    "print(type(apple))"
   ]
  },
  {
   "cell_type": "markdown",
   "metadata": {},
   "source": [
    "### Self keyword"
   ]
  },
  {
   "cell_type": "code",
   "execution_count": 10,
   "metadata": {},
   "outputs": [
    {
     "name": "stdout",
     "output_type": "stream",
     "text": [
      "1987522063872\n"
     ]
    }
   ],
   "source": [
    "a = [3,3]\n",
    "print(id(a))"
   ]
  },
  {
   "cell_type": "code",
   "execution_count": 11,
   "metadata": {},
   "outputs": [
    {
     "name": "stdout",
     "output_type": "stream",
     "text": [
      "1987526408000\n"
     ]
    }
   ],
   "source": [
    "b = [3,4,5]\n",
    "print(id(b))"
   ]
  },
  {
   "cell_type": "code",
   "execution_count": 12,
   "metadata": {},
   "outputs": [
    {
     "name": "stdout",
     "output_type": "stream",
     "text": [
      "execute your laptop ram\n",
      "execute your laptop rom\n",
      "execute your laptop ram\n",
      "execute your laptop rom\n"
     ]
    }
   ],
   "source": [
    "class laptop:\n",
    "    def ram(self):\n",
    "        print(\"execute your laptop ram\")\n",
    "    def rom(self):\n",
    "        print(\"execute your laptop rom\")\n",
    "\n",
    "acer = laptop()\n",
    "hp = laptop()\n",
    "\n",
    "acer.ram()\n",
    "acer.rom()\n",
    "\n",
    "hp.ram()\n",
    "hp.rom()"
   ]
  },
  {
   "cell_type": "code",
   "execution_count": 13,
   "metadata": {},
   "outputs": [
    {
     "name": "stdout",
     "output_type": "stream",
     "text": [
      "1987522575392\n",
      "1987522575392\n",
      "1987522575392\n"
     ]
    }
   ],
   "source": [
    "class laptop:\n",
    "    def ram(self):\n",
    "        print(id(self))\n",
    "    def rom(self):\n",
    "        print(id(self))\n",
    "\n",
    "acer = laptop()\n",
    "hp = laptop()\n",
    "\n",
    "print(id(acer))\n",
    "acer.ram()\n",
    "acer.rom()"
   ]
  },
  {
   "cell_type": "code",
   "execution_count": 14,
   "metadata": {},
   "outputs": [
    {
     "name": "stdout",
     "output_type": "stream",
     "text": [
      "1987522574624\n",
      "1987522574624\n",
      "1987522574624\n"
     ]
    }
   ],
   "source": [
    "print(id(hp))\n",
    "hp.ram()\n",
    "hp.rom()"
   ]
  },
  {
   "cell_type": "markdown",
   "metadata": {},
   "source": [
    "# Constructors in OOP"
   ]
  },
  {
   "cell_type": "code",
   "execution_count": 1,
   "metadata": {},
   "outputs": [
    {
     "name": "stdout",
     "output_type": "stream",
     "text": [
      "This is a constructor.\n"
     ]
    }
   ],
   "source": [
    "class Company:\n",
    "    # constructor\n",
    "    def __init__(self):\n",
    "        print(\"This is a constructor.\")\n",
    "\n",
    "com = Company()"
   ]
  },
  {
   "cell_type": "code",
   "execution_count": 2,
   "metadata": {},
   "outputs": [
    {
     "name": "stdout",
     "output_type": "stream",
     "text": [
      "Memory address of self is  2344577050448\n"
     ]
    }
   ],
   "source": [
    "class Company:\n",
    "    # constructor\n",
    "    def __init__(self):\n",
    "        print(\"Memory address of self is \",id(self))\n",
    "\n",
    "com = Company()"
   ]
  },
  {
   "cell_type": "code",
   "execution_count": 3,
   "metadata": {},
   "outputs": [
    {
     "name": "stdout",
     "output_type": "stream",
     "text": [
      "2344577050448\n"
     ]
    }
   ],
   "source": [
    "print(id(com))"
   ]
  },
  {
   "cell_type": "markdown",
   "metadata": {},
   "source": [
    "### Non-Parameterized Constructor"
   ]
  },
  {
   "cell_type": "code",
   "execution_count": 5,
   "metadata": {},
   "outputs": [
    {
     "name": "stdout",
     "output_type": "stream",
     "text": [
      "xyz\n",
      "ABC Street\n",
      "Name: xyz Address: ABC Street\n"
     ]
    }
   ],
   "source": [
    "class Company:\n",
    "    def __init__(self):\n",
    "        self.name = \"xyz\"\n",
    "        self.address = \"ABC Street\"\n",
    "\n",
    "    def show(self):\n",
    "        print('Name:', self.name, 'Address:',self.address)\n",
    "\n",
    "cmp = Company()\n",
    "\n",
    "print(cmp.name)\n",
    "print(cmp.address)\n",
    "\n",
    "cmp.show()"
   ]
  },
  {
   "cell_type": "code",
   "execution_count": 6,
   "metadata": {},
   "outputs": [],
   "source": [
    "class Company:\n",
    "    def __init__(self):\n",
    "        self.name = \"xyz\"\n",
    "        self.address = \"ABC Street\"\n",
    "\n",
    "    def show(self):\n",
    "        print('Name:', self.name, 'Address:',self.address)\n"
   ]
  },
  {
   "cell_type": "code",
   "execution_count": 7,
   "metadata": {},
   "outputs": [
    {
     "name": "stdout",
     "output_type": "stream",
     "text": [
      "ABC Street\n",
      "Name: xyz Address: ABC Street\n"
     ]
    }
   ],
   "source": [
    "c1 = Company()\n",
    "print(c1.address)\n",
    "c1.show()"
   ]
  },
  {
   "cell_type": "markdown",
   "metadata": {},
   "source": [
    "# Parameterized Constructor"
   ]
  },
  {
   "cell_type": "code",
   "execution_count": 1,
   "metadata": {},
   "outputs": [
    {
     "name": "stdout",
     "output_type": "stream",
     "text": [
      "2173137299136\n",
      "2173137299136\n",
      "Emma 12\n",
      "12\n",
      "2173137302688\n",
      "2173137302688\n",
      "Kelly 13\n"
     ]
    },
    {
     "data": {
      "text/plain": [
       "'Kelly'"
      ]
     },
     "execution_count": 1,
     "metadata": {},
     "output_type": "execute_result"
    }
   ],
   "source": [
    "class Student:\n",
    "    def __init__(self, name, age):\n",
    "        print(id(self))\n",
    "        self.name = name\n",
    "        self.age = age\n",
    "\n",
    "    def show(self):\n",
    "        print(self.name, self.age)\n",
    "\n",
    "emma = Student('Emma',12)\n",
    "print(id(emma))\n",
    "emma.show()\n",
    "print(emma.age)\n",
    "\n",
    "kelly = Student('Kelly',13)\n",
    "print(id(kelly))\n",
    "kelly.show()\n",
    "kelly.name"
   ]
  },
  {
   "cell_type": "code",
   "execution_count": 2,
   "metadata": {},
   "outputs": [
    {
     "name": "stdout",
     "output_type": "stream",
     "text": [
      "2173137299472\n",
      "2173137299472\n",
      "Megan python\n",
      "2173137303648\n",
      "2173137303648\n",
      "Lucy java\n"
     ]
    }
   ],
   "source": [
    "class Student:\n",
    "    def __init__(self, name, subject):\n",
    "        print(id(self))\n",
    "        self.name = name\n",
    "        self.subject = subject\n",
    "\n",
    "    def show(self):\n",
    "        print(self.name, self.subject)\n",
    "\n",
    "megan = Student('Megan','python')\n",
    "print(id(megan))\n",
    "megan.show()\n",
    "\n",
    "lucy = Student('Lucy','java')\n",
    "print(id(lucy))\n",
    "lucy.show()"
   ]
  },
  {
   "cell_type": "code",
   "execution_count": 5,
   "metadata": {},
   "outputs": [
    {
     "name": "stdout",
     "output_type": "stream",
     "text": [
      "abc\n",
      "gpw_col\n",
      "python\n",
      "Name: abc City: gpw_col Profession: python\n",
      "abc is teaching python\n"
     ]
    }
   ],
   "source": [
    "class Person:\n",
    "    def __init__(self, name, college, subject):\n",
    "        self.name = name\n",
    "        self.college = college\n",
    "        self.subject = subject\n",
    "\n",
    "    def show(self):\n",
    "        print('Name:' , self.name, 'City:' , self.college, 'Profession:' , self.subject)\n",
    "\n",
    "    def work(self):\n",
    "        print(self.name, 'is teaching', self.subject)\n",
    "\n",
    "A1 = Person(\"abc\", \"gpw_col\", \"python\")\n",
    "print(A1.name)\n",
    "print(A1.college)\n",
    "print(A1.subject)\n",
    "A1.show()\n",
    "A1.work()\n"
   ]
  },
  {
   "cell_type": "code",
   "execution_count": 6,
   "metadata": {},
   "outputs": [
    {
     "name": "stdout",
     "output_type": "stream",
     "text": [
      "100\n",
      "12\n",
      "Max speed is 100, Mileage is 12\n"
     ]
    }
   ],
   "source": [
    "# program to create a Vehicle class with max speed and mileage instance attributes(variable) and create an instance method with name veh\n",
    "class Vehicle:\n",
    "    def __init__(self, max_speed, mileage):\n",
    "        self.max_speed = max_speed\n",
    "        self.mileage = mileage\n",
    "\n",
    "    def veh(self):\n",
    "        print(f'Max speed is {self.max_speed}, Mileage is {self.mileage}')\n",
    "\n",
    "Honda = Vehicle(100,12)\n",
    "print(Honda.max_speed)\n",
    "print(Honda.mileage)\n",
    "Honda.veh()"
   ]
  },
  {
   "cell_type": "code",
   "execution_count": 7,
   "metadata": {},
   "outputs": [
    {
     "name": "stdout",
     "output_type": "stream",
     "text": [
      "Length: 2\n",
      "Width: 4\n",
      "Area: 8\n",
      "Perimeter: 12\n"
     ]
    }
   ],
   "source": [
    "# A class constructed by a length and width and a method which will compute the area of a rectangle and perimeter of rectangle\n",
    "class Rectangle:\n",
    "    def __init__(self, length, width):\n",
    "        self.length = length \n",
    "        self.width = width \n",
    "\n",
    "    def area(self):\n",
    "        print('Area:', self.length * self.width)\n",
    "\n",
    "    def peri(self):\n",
    "        print('Perimeter:', (2 * (self.length + self.width)))\n",
    "\n",
    "r = Rectangle(2,4)\n",
    "print(\"Length:\", r.length)\n",
    "print(\"Width:\", r.width)\n",
    "r.area()\n",
    "r.peri()"
   ]
  },
  {
   "cell_type": "code",
   "execution_count": 8,
   "metadata": {},
   "outputs": [
    {
     "name": "stdout",
     "output_type": "stream",
     "text": [
      "2173141058528\n",
      "2173141058528\n",
      "Radius: 12\n",
      "Area: 452.15999999999997\n",
      "Perimeter: 75.36\n"
     ]
    }
   ],
   "source": [
    "# Write a python class named Circle constructed by a radius and two methods which will compute the area and the perimeter of a circle.\n",
    "class Circle:\n",
    "    def __init__(self, rad):\n",
    "        print(id(self))\n",
    "        self.rad = rad\n",
    "\n",
    "    def area(self):\n",
    "        print('Area:', (3.14 * self.rad * self.rad))\n",
    "\n",
    "    def perimeter(self):\n",
    "        print('Perimeter:', (2 * 3.14 * self.rad))\n",
    "\n",
    "cir = Circle(12)\n",
    "print(id(cir))\n",
    "print('Radius:', cir.rad)\n",
    "cir.area()\n",
    "cir.perimeter()    "
   ]
  },
  {
   "cell_type": "code",
   "execution_count": 9,
   "metadata": {},
   "outputs": [
    {
     "name": "stdout",
     "output_type": "stream",
     "text": [
      "2173141058240\n",
      "2173141058240\n"
     ]
    }
   ],
   "source": [
    "cir2 = Circle(12)\n",
    "print(id(cir2))"
   ]
  },
  {
   "cell_type": "code",
   "execution_count": 10,
   "metadata": {},
   "outputs": [
    {
     "name": "stdout",
     "output_type": "stream",
     "text": [
      "Area of Circle: 153.86\n",
      "Perimeter of Circle: 43.96\n"
     ]
    }
   ],
   "source": [
    "class Circle:\n",
    "    def __init__(self, radius):\n",
    "        self.radius = radius\n",
    "\n",
    "    def area(self):\n",
    "        return 3.14 * self.radius ** 2\n",
    "\n",
    "    def perimeter(self):\n",
    "        return 2 * 3.14 * self.radius\n",
    "    \n",
    "rad = int(input(\"Enter the radius = \"))\n",
    "\n",
    "circle = Circle(rad)\n",
    "\n",
    "print('Area of Circle:', circle.area())\n",
    "print('Perimeter of Circle:', circle.perimeter())"
   ]
  },
  {
   "cell_type": "code",
   "execution_count": null,
   "metadata": {},
   "outputs": [],
   "source": []
  }
 ],
 "metadata": {
  "kernelspec": {
   "display_name": "base",
   "language": "python",
   "name": "python3"
  },
  "language_info": {
   "codemirror_mode": {
    "name": "ipython",
    "version": 3
   },
   "file_extension": ".py",
   "mimetype": "text/x-python",
   "name": "python",
   "nbconvert_exporter": "python",
   "pygments_lexer": "ipython3",
   "version": "3.12.3"
  }
 },
 "nbformat": 4,
 "nbformat_minor": 2
}
